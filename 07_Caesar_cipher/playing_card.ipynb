{
 "cells": [
  {
   "cell_type": "code",
   "execution_count": null,
   "id": "cc5531e7",
   "metadata": {},
   "outputs": [],
   "source": [
    "class Card(object):\n",
    "    \"\"\"Create class for card\"\"\"\n",
    "\n",
    "    def __init__(self, value, suit):\n",
    "        self.value = value\n",
    "        self.suit = suit\n",
    "\n",
    "    def get_value(self):\n",
    "        return self.value\n",
    "    \n",
    "    def get_suit(self):\n",
    "        return self.suit\n",
    "    \n",
    "    def __str__(self): # The dunder method, returns the custom string representation.\n",
    "        \n",
    "        my_card = str(self.value) + ' of ' + str(self.suit)\n",
    "        return my_card"
   ]
  },
  {
   "cell_type": "code",
   "execution_count": 5,
   "id": "2dc8322d",
   "metadata": {},
   "outputs": [
    {
     "name": "stdout",
     "output_type": "stream",
     "text": [
      "3 of diamonds\n"
     ]
    }
   ],
   "source": [
    "my_card = Card(3, 'diamonds')\n",
    "print(my_card)"
   ]
  },
  {
   "cell_type": "code",
   "execution_count": null,
   "id": "a8650ea4",
   "metadata": {},
   "outputs": [],
   "source": []
  }
 ],
 "metadata": {
  "kernelspec": {
   "display_name": "base",
   "language": "python",
   "name": "python3"
  },
  "language_info": {
   "codemirror_mode": {
    "name": "ipython",
    "version": 3
   },
   "file_extension": ".py",
   "mimetype": "text/x-python",
   "name": "python",
   "nbconvert_exporter": "python",
   "pygments_lexer": "ipython3",
   "version": "3.11.7"
  }
 },
 "nbformat": 4,
 "nbformat_minor": 5
}
