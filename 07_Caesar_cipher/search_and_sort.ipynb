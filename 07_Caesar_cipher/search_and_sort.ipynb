{
 "cells": [
  {
   "cell_type": "markdown",
   "id": "842a6d3e",
   "metadata": {},
   "source": [
    "### Linear Search"
   ]
  },
  {
   "cell_type": "code",
   "execution_count": 1,
   "id": "203dbf82",
   "metadata": {},
   "outputs": [],
   "source": [
    "def linear_search(item, my_list):\n",
    "    i = 0\n",
    "    found = False\n",
    "\n",
    "    while i < len(my_list) and found == False:\n",
    "        if my_list[i] == item:\n",
    "            found = True\n",
    "        else:\n",
    "            i = i + 1\n",
    "    return found"
   ]
  },
  {
   "cell_type": "code",
   "execution_count": 2,
   "id": "ca571962",
   "metadata": {},
   "outputs": [
    {
     "name": "stdout",
     "output_type": "stream",
     "text": [
      "True\n"
     ]
    }
   ],
   "source": [
    "test = [6, 5, 8, 2, 3, 45, 87, 24, 70]\n",
    "print(linear_search(87, test))"
   ]
  },
  {
   "cell_type": "code",
   "execution_count": 3,
   "id": "5c2fdaeb",
   "metadata": {},
   "outputs": [
    {
     "name": "stdout",
     "output_type": "stream",
     "text": [
      "False\n"
     ]
    }
   ],
   "source": [
    "print(linear_search(88, test))"
   ]
  },
  {
   "cell_type": "markdown",
   "id": "dd646254",
   "metadata": {},
   "source": [
    "### Binary Search\n",
    "\n",
    "###### This applies to sorted list"
   ]
  },
  {
   "cell_type": "code",
   "execution_count": 4,
   "id": "b7b26dcb",
   "metadata": {},
   "outputs": [],
   "source": [
    "def binary_search(item, my_list):\n",
    "    found = False\n",
    "    first = 0\n",
    "    last = len(my_list) - 1\n",
    "\n",
    "    while first <=  last and found == False:\n",
    "        midpoint = (first + last) // 2\n",
    "        if my_list[midpoint] == item:\n",
    "            found = True\n",
    "        else:\n",
    "            if my_list[midpoint] < item:\n",
    "                first = midpoint + 1\n",
    "            else:\n",
    "                last = midpoint - 1\n",
    "    return found"
   ]
  },
  {
   "cell_type": "code",
   "execution_count": 6,
   "id": "80078103",
   "metadata": {},
   "outputs": [
    {
     "name": "stdout",
     "output_type": "stream",
     "text": [
      "False\n"
     ]
    }
   ],
   "source": [
    "test = [6,5,8,2,3,45,87,24,70]\n",
    "test = sorted(test)\n",
    "print(binary_search(88, test))"
   ]
  },
  {
   "cell_type": "code",
   "execution_count": null,
   "id": "b55307bc",
   "metadata": {},
   "outputs": [],
   "source": []
  }
 ],
 "metadata": {
  "kernelspec": {
   "display_name": "base",
   "language": "python",
   "name": "python3"
  },
  "language_info": {
   "codemirror_mode": {
    "name": "ipython",
    "version": 3
   },
   "file_extension": ".py",
   "mimetype": "text/x-python",
   "name": "python",
   "nbconvert_exporter": "python",
   "pygments_lexer": "ipython3",
   "version": "3.11.7"
  }
 },
 "nbformat": 4,
 "nbformat_minor": 5
}
