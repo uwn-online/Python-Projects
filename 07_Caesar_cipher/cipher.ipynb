{
 "cells": [
  {
   "cell_type": "code",
   "execution_count": 1,
   "id": "5bcbf7b2",
   "metadata": {},
   "outputs": [
    {
     "name": "stdout",
     "output_type": "stream",
     "text": [
      "hello world\n"
     ]
    }
   ],
   "source": [
    "print('hello world')"
   ]
  },
  {
   "cell_type": "code",
   "execution_count": 2,
   "id": "c7b6fb5b",
   "metadata": {},
   "outputs": [],
   "source": [
    "alphabet = 'abcdefghijklmnopqrstuvwxyz'"
   ]
  },
  {
   "cell_type": "code",
   "execution_count": 3,
   "id": "62f5923d",
   "metadata": {},
   "outputs": [],
   "source": [
    "input_text = 'hello'"
   ]
  },
  {
   "cell_type": "markdown",
   "id": "037925ff",
   "metadata": {},
   "source": [
    "#### To build a very simple version of caesar cipher"
   ]
  },
  {
   "cell_type": "code",
   "execution_count": 4,
   "id": "640113fd",
   "metadata": {},
   "outputs": [
    {
     "name": "stdout",
     "output_type": "stream",
     "text": [
      "khoor\n"
     ]
    }
   ],
   "source": [
    "output = ''\n",
    "for char in input_text:\n",
    "    alpha_index = alphabet.find(char)\n",
    "    output = output + alphabet[alpha_index + 3]\n",
    "print(output)"
   ]
  },
  {
   "cell_type": "markdown",
   "id": "583cf34e",
   "metadata": {},
   "source": [
    "### What if the cipher index goes beyond the end of alphabet?"
   ]
  },
  {
   "cell_type": "code",
   "execution_count": 6,
   "id": "9a37c480",
   "metadata": {},
   "outputs": [
    {
     "ename": "IndexError",
     "evalue": "string index out of range",
     "output_type": "error",
     "traceback": [
      "\u001b[1;31m---------------------------------------------------------------------------\u001b[0m",
      "\u001b[1;31mIndexError\u001b[0m                                Traceback (most recent call last)",
      "Cell \u001b[1;32mIn[6], line 4\u001b[0m\n\u001b[0;32m      2\u001b[0m \u001b[38;5;28;01mfor\u001b[39;00m char \u001b[38;5;129;01min\u001b[39;00m input_text:\n\u001b[0;32m      3\u001b[0m     alpha_index \u001b[38;5;241m=\u001b[39m alphabet\u001b[38;5;241m.\u001b[39mfind(char)\n\u001b[1;32m----> 4\u001b[0m     output \u001b[38;5;241m=\u001b[39m output \u001b[38;5;241m+\u001b[39m alphabet[alpha_index \u001b[38;5;241m+\u001b[39m \u001b[38;5;241m30\u001b[39m]\n\u001b[0;32m      5\u001b[0m \u001b[38;5;28mprint\u001b[39m(output)\n",
      "\u001b[1;31mIndexError\u001b[0m: string index out of range"
     ]
    }
   ],
   "source": [
    "output = ''\n",
    "for char in input_text:\n",
    "    alpha_index = alphabet.find(char)\n",
    "    output = output + alphabet[alpha_index + 30]\n",
    "print(output)"
   ]
  },
  {
   "cell_type": "markdown",
   "id": "11c72daf",
   "metadata": {},
   "source": [
    "#### Create a function to deal with the shift"
   ]
  },
  {
   "cell_type": "code",
   "execution_count": 7,
   "id": "e2195c5f",
   "metadata": {},
   "outputs": [],
   "source": [
    "def shift_amount(i):\n",
    "    \"\"\"will determine the shift, taking account the length of the alphabet\"\"\"\n",
    "    return i%26"
   ]
  },
  {
   "cell_type": "code",
   "execution_count": 8,
   "id": "6349851e",
   "metadata": {},
   "outputs": [
    {
     "name": "stdout",
     "output_type": "stream",
     "text": [
      "lipps\n"
     ]
    }
   ],
   "source": [
    "output_1 = ''\n",
    "for char in input_text:\n",
    "    alpha_index = alphabet.find(char)\n",
    "    output_1 = output_1 + alphabet[shift_amount(alpha_index+30)]\n",
    "print(output_1)"
   ]
  },
  {
   "cell_type": "markdown",
   "id": "d793b6b3",
   "metadata": {},
   "source": [
    "### Complete function to encrypt"
   ]
  },
  {
   "cell_type": "code",
   "execution_count": 9,
   "id": "3101327e",
   "metadata": {},
   "outputs": [],
   "source": [
    "def encrypt(text,required_shift):\n",
    "    out_string = ''\n",
    "    text = text.lower()\n",
    "    for char in text:\n",
    "        if char not in alphabet:\n",
    "            out_string = out_string + char\n",
    "        else:\n",
    "            alpha_index = alphabet.find(char)\n",
    "            out_string = out_string + alphabet[shift_amount(alpha_index+required_shift)]\n",
    "    return out_string"
   ]
  },
  {
   "cell_type": "code",
   "execution_count": 12,
   "id": "6eab8b9f",
   "metadata": {},
   "outputs": [
    {
     "data": {
      "text/plain": [
       "'yksglyoay rhy'"
      ]
     },
     "execution_count": 12,
     "metadata": {},
     "output_type": "execute_result"
    }
   ],
   "source": [
    "input = \"ugochukwu Ndu\"\n",
    "shift = encrypt(input, 4)\n",
    "shift"
   ]
  },
  {
   "cell_type": "code",
   "execution_count": 13,
   "id": "d189ffa9",
   "metadata": {},
   "outputs": [
    {
     "name": "stdout",
     "output_type": "stream",
     "text": [
      "sohdvh phhw ph dw wkh rog jdvzrunv, sodwirup 3, rq 3 qryhpehu dw 19:00 iru d vsb-wkhphg urohsodb eulhilqj; l zloo surylgh wkh vfhqdulr dqg pdwhuldov rq duulydo. eulqj skrwr lg dqg zhdu frpiruwdeoh forwklqj.\n",
      "nlqg uhjdugv,\n",
      "doha phufhu\n"
     ]
    }
   ],
   "source": [
    "invite = \"\"\"Please meet me at The Old Gasworks, Platform 3, on 3 November at 19:00 for a spy-themed roleplay briefing; I will provide the scenario and materials on arrival. Bring photo ID and wear comfortable clothing.\n",
    "Kind regards,\n",
    "Alex Mercer\"\"\"\n",
    "\n",
    "encrypt_invite = encrypt(invite, 3)\n",
    "print(encrypt_invite)"
   ]
  },
  {
   "cell_type": "code",
   "execution_count": null,
   "id": "91d1cab7",
   "metadata": {},
   "outputs": [
    {
     "name": "stdout",
     "output_type": "stream",
     "text": [
      "please meet me at the old gasworks, platform 3, on 3 november at 19:00 for a spy-themed roleplay briefing; i will provide the scenario and materials on arrival. bring photo id and wear comfortable clothing.\n",
      "kind regards,\n",
      "alex mercer\n"
     ]
    }
   ],
   "source": [
    "print(encrypt(encrypt_invite, -3)) # This decrypts the message by the name number of shift."
   ]
  },
  {
   "cell_type": "code",
   "execution_count": null,
   "id": "a2f0d40c",
   "metadata": {},
   "outputs": [],
   "source": []
  }
 ],
 "metadata": {
  "kernelspec": {
   "display_name": "base",
   "language": "python",
   "name": "python3"
  },
  "language_info": {
   "codemirror_mode": {
    "name": "ipython",
    "version": 3
   },
   "file_extension": ".py",
   "mimetype": "text/x-python",
   "name": "python",
   "nbconvert_exporter": "python",
   "pygments_lexer": "ipython3",
   "version": "3.11.7"
  }
 },
 "nbformat": 4,
 "nbformat_minor": 5
}
