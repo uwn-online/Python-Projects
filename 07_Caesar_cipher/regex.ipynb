{
 "cells": [
  {
   "cell_type": "markdown",
   "id": "57f3fa9e",
   "metadata": {},
   "source": [
    "### String Formatting"
   ]
  },
  {
   "cell_type": "code",
   "execution_count": 1,
   "id": "208a9e6d",
   "metadata": {},
   "outputs": [],
   "source": [
    "import math"
   ]
  },
  {
   "cell_type": "code",
   "execution_count": 2,
   "id": "c10be7c7",
   "metadata": {},
   "outputs": [],
   "source": [
    "pi = math.pi"
   ]
  },
  {
   "cell_type": "code",
   "execution_count": 3,
   "id": "5b0bd2f4",
   "metadata": {},
   "outputs": [
    {
     "data": {
      "text/plain": [
       "3.141592653589793"
      ]
     },
     "execution_count": 3,
     "metadata": {},
     "output_type": "execute_result"
    }
   ],
   "source": [
    "pi"
   ]
  },
  {
   "cell_type": "code",
   "execution_count": 4,
   "id": "8e07eeb6",
   "metadata": {},
   "outputs": [
    {
     "data": {
      "text/plain": [
       "'pi is equal to 3.141592653589793'"
      ]
     },
     "execution_count": 4,
     "metadata": {},
     "output_type": "execute_result"
    }
   ],
   "source": [
    "f'pi is equal to {pi}'"
   ]
  },
  {
   "cell_type": "code",
   "execution_count": null,
   "id": "7162eb32",
   "metadata": {},
   "outputs": [
    {
     "data": {
      "text/plain": [
       "'pi is equal to 3.142'"
      ]
     },
     "execution_count": 5,
     "metadata": {},
     "output_type": "execute_result"
    }
   ],
   "source": [
    "f'pi is equal to {pi:.3f}' # This formats the float to three decimal places."
   ]
  },
  {
   "cell_type": "code",
   "execution_count": null,
   "id": "15f682ed",
   "metadata": {},
   "outputs": [
    {
     "data": {
      "text/plain": [
       "'pi is equal to        3.142'"
      ]
     },
     "execution_count": 6,
     "metadata": {},
     "output_type": "execute_result"
    }
   ],
   "source": [
    "f'pi is equal to {pi:12.3f}' # This gives whitespace of 12."
   ]
  },
  {
   "cell_type": "code",
   "execution_count": null,
   "id": "98809e67",
   "metadata": {},
   "outputs": [
    {
     "data": {
      "text/plain": [
       "'pi is equal to 00000003.142'"
      ]
     },
     "execution_count": 7,
     "metadata": {},
     "output_type": "execute_result"
    }
   ],
   "source": [
    "f'pi is equal to {pi:012.3f}' # Gives leading zeros."
   ]
  },
  {
   "cell_type": "code",
   "execution_count": null,
   "id": "71fa8909",
   "metadata": {},
   "outputs": [
    {
     "data": {
      "text/plain": [
       "'pi is equal to +3.142'"
      ]
     },
     "execution_count": 8,
     "metadata": {},
     "output_type": "execute_result"
    }
   ],
   "source": [
    "f'pi is equal to {pi:+.3f}' # Displays negative values."
   ]
  },
  {
   "cell_type": "code",
   "execution_count": 9,
   "id": "3bd0c8aa",
   "metadata": {},
   "outputs": [
    {
     "data": {
      "text/plain": [
       "'pi is equal to      3.142'"
      ]
     },
     "execution_count": 9,
     "metadata": {},
     "output_type": "execute_result"
    }
   ],
   "source": [
    "f'pi is equal to {pi:10.3f}'"
   ]
  },
  {
   "cell_type": "code",
   "execution_count": null,
   "id": "de361ddf",
   "metadata": {},
   "outputs": [
    {
     "data": {
      "text/plain": [
       "'pi is equal to  3.142     '"
      ]
     },
     "execution_count": 10,
     "metadata": {},
     "output_type": "execute_result"
    }
   ],
   "source": [
    "f'pi is equal to  {pi:<10.3f}' # Left justified."
   ]
  },
  {
   "cell_type": "code",
   "execution_count": null,
   "id": "dc180385",
   "metadata": {},
   "outputs": [
    {
     "data": {
      "text/plain": [
       "'pi is equal to    3.142   '"
      ]
     },
     "execution_count": 11,
     "metadata": {},
     "output_type": "execute_result"
    }
   ],
   "source": [
    "f'pi is equal to  {pi:^10.3f}' # Central alignment."
   ]
  },
  {
   "cell_type": "code",
   "execution_count": null,
   "id": "91207c13",
   "metadata": {},
   "outputs": [
    {
     "data": {
      "text/plain": [
       "'pi is equal to  +    3.142'"
      ]
     },
     "execution_count": 12,
     "metadata": {},
     "output_type": "execute_result"
    }
   ],
   "source": [
    "f'pi is equal to  {pi:=+10.3f}' # padding and a sign."
   ]
  },
  {
   "cell_type": "markdown",
   "id": "8eb29f24",
   "metadata": {},
   "source": [
    "<div style=\"text-align: center\">\n",
    "\n",
    "## Regular Expression\n",
    "#### Searching for patterns in text\n",
    "\n",
    "</div>\n",
    "\n"
   ]
  },
  {
   "cell_type": "code",
   "execution_count": 13,
   "id": "e58fce60",
   "metadata": {},
   "outputs": [],
   "source": [
    "text = 'Silver clouds drift above the quiet valley as hidden winds weave through tall cedar trees. n\\Lanterns flicker softly along the cobbled path, guiding footsteps toward the shimmering lake where echoes of laughter mix with ripples of moonlight, calm and bright beneath the endless sky'"
   ]
  },
  {
   "cell_type": "code",
   "execution_count": null,
   "id": "bdcd7063",
   "metadata": {},
   "outputs": [],
   "source": [
    "\n",
    "import re"
   ]
  },
  {
   "cell_type": "code",
   "execution_count": null,
   "id": "2e53d98f",
   "metadata": {},
   "outputs": [
    {
     "name": "stdout",
     "output_type": "stream",
     "text": [
      "True\n"
     ]
    }
   ],
   "source": [
    "# Find if 'along' is in the text\n",
    "text_1 = re.compile('along')\n",
    "print(bool(text_1.search(text)))"
   ]
  },
  {
   "cell_type": "code",
   "execution_count": 17,
   "id": "ac379bb3",
   "metadata": {},
   "outputs": [
    {
     "name": "stdout",
     "output_type": "stream",
     "text": [
      "True\n"
     ]
    }
   ],
   "source": [
    "# Check for whitespace\n",
    "text_2 = re.compile(\"\\s\")\n",
    "print(bool(text_2.search(text)))"
   ]
  },
  {
   "cell_type": "markdown",
   "id": "a4cb1755",
   "metadata": {},
   "source": [
    "#### Extracting all hashtags from tweets"
   ]
  },
  {
   "cell_type": "code",
   "execution_count": 18,
   "id": "8b223119",
   "metadata": {},
   "outputs": [
    {
     "name": "stdout",
     "output_type": "stream",
     "text": [
      "['#sunshine', '#beach', '#summer']\n",
      "['#NatureLover', '#Adventure', '#Hiking', '#MountainLife', '#TrailBlazing', '#OutdoorFun', '#FreshAir', '#Explore', '#Recharge', '#WeekendGetaway']\n"
     ]
    }
   ],
   "source": [
    "tweet_1 = \"Loving the #sunshine and #beach vibes! #summer is here!\"\n",
    "tweet_2 =\"Spent an incredible day hiking in the mountains! The fresh air, the stunning views, and the challenge of the trail were exactly what i needed needed to recharge. #NatureLover #Adventure #Hiking #MountainLife #TrailBlazing #OutdoorFun #FreshAir #Explore #Recharge#WeekendGetaway\"\n",
    "\n",
    "# Define the hashtag pattern\n",
    "pattern = re.compile(r'#\\w+\\b')\n",
    "\n",
    "hashtag_1 = pattern.findall(tweet_1)\n",
    "hashtag_2 = pattern.findall(tweet_2)\n",
    "\n",
    "print(hashtag_1)\n",
    "print(hashtag_2)"
   ]
  },
  {
   "cell_type": "code",
   "execution_count": 19,
   "id": "6fc1ba31",
   "metadata": {},
   "outputs": [
    {
     "name": "stdout",
     "output_type": "stream",
     "text": [
      "['stopping', 'evening']\n"
     ]
    }
   ],
   "source": [
    "text = \"Whose woods these are I think I know.\\nHis house is in the village though;\\nHe will not see me stopping here\\nTo watch his woods fill up with snow.\\n\\nMy little horse must think it queer\\nTo stop without a farmhouse near\\nBetween the woods and frozen lake\\nThe darkest evening of the year.\\n\\nHe gives his harness bells a shake\\nTo ask if there is some mistake.\\nThe only other sound’s the sweep\\nOf easy wind and downy flake.\\n\\nThe woods are lovely, dark and deep,\\nBut I have promises to keep,\\nAnd miles to go before I sleep,\\nAnd miles to go before I sleep.\"\n",
    "\n",
    "pattern = re.compile(r'\\b\\w+ing\\b')\n",
    "\n",
    "word_ing = pattern.findall(text)\n",
    "print(word_ing)"
   ]
  },
  {
   "cell_type": "code",
   "execution_count": 21,
   "id": "457bfdf2",
   "metadata": {},
   "outputs": [
    {
     "name": "stdout",
     "output_type": "stream",
     "text": [
      "['john.doe@365datascience.com', 'jane.smith@365datascience.com', 'contact@365datascience.com']\n"
     ]
    }
   ],
   "source": [
    "# To replace email domains\n",
    "\n",
    "emails = [\"john.doe@example.com\", \"jane.smith@test.org\", \"contact@company.net\"]\n",
    "new_domain = \"365datascience.com\"\n",
    "\n",
    "pattern = r'@[A-Za-z0-9.-]+\\.[A-Za-z]{2,}'\n",
    "new_emails = [re.sub(pattern, f'@{new_domain}', email) for email in emails]\n",
    "\n",
    "print(new_emails)"
   ]
  },
  {
   "cell_type": "code",
   "execution_count": null,
   "id": "410fbb9f",
   "metadata": {},
   "outputs": [],
   "source": []
  }
 ],
 "metadata": {
  "kernelspec": {
   "display_name": "base",
   "language": "python",
   "name": "python3"
  },
  "language_info": {
   "codemirror_mode": {
    "name": "ipython",
    "version": 3
   },
   "file_extension": ".py",
   "mimetype": "text/x-python",
   "name": "python",
   "nbconvert_exporter": "python",
   "pygments_lexer": "ipython3",
   "version": "3.11.7"
  }
 },
 "nbformat": 4,
 "nbformat_minor": 5
}
